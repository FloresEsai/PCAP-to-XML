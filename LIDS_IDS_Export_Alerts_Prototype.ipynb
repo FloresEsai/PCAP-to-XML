{
  "nbformat": 4,
  "nbformat_minor": 0,
  "metadata": {
    "colab": {
      "provenance": []
    },
    "kernelspec": {
      "name": "python3",
      "display_name": "Python 3"
    },
    "language_info": {
      "name": "python"
    }
  },
  "cells": [
    {
      "cell_type": "markdown",
      "source": [
        "# Imports"
      ],
      "metadata": {
        "id": "xfxmSmU8V3mE"
      }
    },
    {
      "cell_type": "code",
      "source": [
        "!pip install pyshark\n",
        "!apt-get install -y tshark\n",
        "import pyshark\n",
        "import nest_asyncio\n",
        "nest_asyncio.apply()\n",
        "from google.colab import drive\n",
        "# Mount Google Drive\n",
        "drive.mount('/content/drive')"
      ],
      "metadata": {
        "id": "w1lhsHB9aMEo"
      },
      "execution_count": null,
      "outputs": []
    },
    {
      "cell_type": "markdown",
      "source": [
        "# Implemented Code\n",
        "\n",
        "> Below is the attempted implementation of the process that will export the alerts (shown as a pcap file) into the desired XML file type using a library that will work with WireShark called PyShark\n",
        "\n",
        ">>Date: (Day/Month/Year)\n",
        "\n",
        ">> **Version 1.0**: **Last edit**: 07/04/2023 by *Esai Flores*: **Current Status**: Does not compile\n",
        ">>> **Current Problem**: TSharkNotFoundException: TShark not found. Try adding its location to the configuration file.\n",
        "\n",
        ">> **Version 2.0**: **Last edit**: 08/04/2023 by *Esai Flores*: **Current Status**: Finished"
      ],
      "metadata": {
        "id": "Ok54ImRcWFdf"
      }
    },
    {
      "cell_type": "code",
      "source": [
        "# Access the PCAP file\n",
        "pcap_path = '/content/drive/My Drive/sampleHTTP_capture.pcap'\n",
        "\n",
        "\n",
        "# Replace \"input.pcap\" with the path to your input PCAP file\n",
        "cap = pyshark.FileCapture(\"sampleHTTP_capture.pcap\")\n",
        "\n",
        "pyshark.tshark.tshark_path = '/usr/bin/tshark'  # Update the path to TShark\n",
        "cap = pyshark.FileCapture(pcap_path)\n",
        "\n",
        "# Replace \"output.xml\" with the name of the output XML file you want to create\n",
        "with open(\"test.xml\", \"w\") as f:\n",
        "    f.write(\"<?xml version=\\\"1.0\\\" encoding=\\\"UTF-8\\\"?>\\n\")\n",
        "    f.write(\"<pcap>\\n\")\n",
        "\n",
        "    for pkt in cap:\n",
        "        f.write(\"\\t<packet>\\n\")\n",
        "\n",
        "        for field in pkt:\n",
        "            if hasattr(field, 'field_name') and hasattr(field, 'raw_value'):\n",
        "                f.write(\"\\t\\t<{0}>{1}</{0}>\\n\".format(field.field_name, field.raw_value))\n",
        "\n",
        "        f.write(\"\\t</packet>\\n\")\n",
        "\n",
        "    f.write(\"</pcap>\\n\")"
      ],
      "metadata": {
        "id": "Zx-CDo3QaMjD"
      },
      "execution_count": null,
      "outputs": []
    }
  ]
}